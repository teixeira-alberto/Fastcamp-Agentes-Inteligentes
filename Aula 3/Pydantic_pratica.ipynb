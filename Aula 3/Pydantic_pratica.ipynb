{
  "nbformat": 4,
  "nbformat_minor": 0,
  "metadata": {
    "colab": {
      "provenance": []
    },
    "kernelspec": {
      "name": "python3",
      "display_name": "Python 3"
    },
    "language_info": {
      "name": "python"
    }
  },
  "cells": [
    {
      "cell_type": "code",
      "execution_count": 1,
      "metadata": {
        "colab": {
          "base_uri": "https://localhost:8080/"
        },
        "id": "A8405gN3gbU9",
        "outputId": "9e05bea4-46bc-4aff-f8ce-43205345d741"
      },
      "outputs": [
        {
          "output_type": "stream",
          "name": "stdout",
          "text": [
            "Requirement already satisfied: pydantic in /usr/local/lib/python3.11/dist-packages (2.11.5)\n",
            "Requirement already satisfied: fastapi in /usr/local/lib/python3.11/dist-packages (0.115.12)\n",
            "Requirement already satisfied: uvicorn in /usr/local/lib/python3.11/dist-packages (0.34.3)\n",
            "Requirement already satisfied: annotated-types>=0.6.0 in /usr/local/lib/python3.11/dist-packages (from pydantic) (0.7.0)\n",
            "Requirement already satisfied: pydantic-core==2.33.2 in /usr/local/lib/python3.11/dist-packages (from pydantic) (2.33.2)\n",
            "Requirement already satisfied: typing-extensions>=4.12.2 in /usr/local/lib/python3.11/dist-packages (from pydantic) (4.14.0)\n",
            "Requirement already satisfied: typing-inspection>=0.4.0 in /usr/local/lib/python3.11/dist-packages (from pydantic) (0.4.1)\n",
            "Requirement already satisfied: starlette<0.47.0,>=0.40.0 in /usr/local/lib/python3.11/dist-packages (from fastapi) (0.46.2)\n",
            "Requirement already satisfied: click>=7.0 in /usr/local/lib/python3.11/dist-packages (from uvicorn) (8.2.1)\n",
            "Requirement already satisfied: h11>=0.8 in /usr/local/lib/python3.11/dist-packages (from uvicorn) (0.16.0)\n",
            "Requirement already satisfied: anyio<5,>=3.6.2 in /usr/local/lib/python3.11/dist-packages (from starlette<0.47.0,>=0.40.0->fastapi) (4.9.0)\n",
            "Requirement already satisfied: idna>=2.8 in /usr/local/lib/python3.11/dist-packages (from anyio<5,>=3.6.2->starlette<0.47.0,>=0.40.0->fastapi) (3.10)\n",
            "Requirement already satisfied: sniffio>=1.1 in /usr/local/lib/python3.11/dist-packages (from anyio<5,>=3.6.2->starlette<0.47.0,>=0.40.0->fastapi) (1.3.1)\n"
          ]
        }
      ],
      "source": [
        "# Instalação das dependências para a parte prática\n",
        "\n",
        "!pip install pydantic fastapi uvicorn"
      ]
    },
    {
      "cell_type": "code",
      "source": [
        "# Importação das dependências\n",
        "\n",
        "from uuid import uuid4, UUID\n",
        "from datetime import date\n",
        "from typing import List, Optional\n",
        "\n",
        "from fastapi import FastAPI, HTTPException\n",
        "from pydantic import BaseModel, Field, field_validator\n",
        "from fastapi.testclient import TestClient"
      ],
      "metadata": {
        "id": "wsTCdBMBf4QL"
      },
      "execution_count": 2,
      "outputs": []
    },
    {
      "cell_type": "markdown",
      "source": [
        "# Exemplo utilizando Pydantic e FastAPI para fazer uma API de \"to do list\""
      ],
      "metadata": {
        "id": "Wc6RdXTBmclk"
      }
    },
    {
      "cell_type": "markdown",
      "source": [
        "\n",
        "A ideia do código é implementar uma API de tarefas (to do list) utilizando FastAPI e Pydantic. Ele define um modelo ToDoItem com validação de data de vencimento, gera IDs automaticamente e controla um campo de conclusão."
      ],
      "metadata": {
        "id": "od7z9mr2mlaa"
      }
    },
    {
      "cell_type": "code",
      "source": [
        "# Cria instância do aplicativo FastAPI\n",
        "app = FastAPI()\n",
        "\n",
        "# Lista em memória para armazenar as tarefas criadas\n",
        "todos: List[\"ToDoItem\"] = []\n",
        "\n",
        "class ToDoItem(BaseModel):\n",
        "    # Modelo de dado para cada tarefa da lista\n",
        "    id: UUID = Field(\n",
        "        default_factory=uuid4,\n",
        "        description=\"Identificador único gerado automaticamente\"\n",
        "    )\n",
        "    title: str = Field(..., min_length=1, description=\"Título da tarefa, mínimo 1 caractere\")\n",
        "    description: Optional[str] = Field(\n",
        "        default=None,\n",
        "        description=\"Descrição opcional da tarefa\"\n",
        "    )\n",
        "    due_date: Optional[date] = Field(\n",
        "        default=None,\n",
        "        description=\"Data de vencimento opcional\"\n",
        "    )\n",
        "    completed: bool = Field(\n",
        "        default=False,\n",
        "        description=\"Flag que indica se a tarefa já foi concluída\"\n",
        "    )\n",
        "\n",
        "    @field_validator(\"due_date\", mode=\"before\")\n",
        "    @classmethod\n",
        "    def check_due_date_future(cls, v): # Valida que a data de vencimento não seja anterior à data de hoje\n",
        "        if v is not None and v < date.today():\n",
        "            raise ValueError(\"due_date não pode ser no passado\")\n",
        "        return v\n",
        "\n",
        "@app.post(\"/todos\", response_model=ToDoItem)\n",
        "def create_todo(item: ToDoItem): # Recebe um objeto ToDoItem válido, adiciona na lista e retorna-o\n",
        "    todos.append(item)\n",
        "    return item\n",
        "\n",
        "@app.get(\"/todos\", response_model=List[ToDoItem])\n",
        "def list_todos(): # Retorna a lista completa de tarefas em memória\n",
        "    return todos\n",
        "\n",
        "@app.patch(\"/todos/{item_id}/complete\", response_model=ToDoItem)\n",
        "def complete_todo(item_id: UUID): # Procura tarefa pelo ID e marca como concluída\n",
        "    for todo in todos:\n",
        "        if todo.id == item_id:\n",
        "            todo.completed = True\n",
        "            return todo\n",
        "    raise HTTPException(status_code=404, detail=\"Tarefa não encontrada\") # Se não encontrar, retorna erro 404"
      ],
      "metadata": {
        "id": "nZFtK0xKkYgn"
      },
      "execution_count": 4,
      "outputs": []
    },
    {
      "cell_type": "code",
      "source": [
        "# Instancia o cliente de testes do FastAPI para verificar funcionalidades\n",
        "client = TestClient(app)\n",
        "\n",
        "# 1) Criar uma tarefa sem data de vencimento\n",
        "resp1 = client.post(\n",
        "    \"/todos\",\n",
        "    json={\"title\": \"Comprar leite\"}\n",
        ")\n",
        "print(\"POST /todos:\", resp1.status_code, resp1.json())\n",
        "\n",
        "# 2) Listar todas as tarefas criadas\n",
        "resp2 = client.get(\"/todos\")\n",
        "print(\"GET /todos:\", resp2.status_code, resp2.json())\n",
        "\n",
        "# 3) Marcar a primeira tarefa como concluída usando seu ID retornado\n",
        "tid = resp2.json()[0][\"id\"]\n",
        "resp3 = client.patch(f\"/todos/{tid}/complete\")\n",
        "print(f\"PATCH /todos/{tid}/complete:\", resp3.status_code, resp3.json())"
      ],
      "metadata": {
        "colab": {
          "base_uri": "https://localhost:8080/"
        },
        "id": "x46NTpr6mO18",
        "outputId": "12cf31d8-4046-4653-cad8-327d4651d343"
      },
      "execution_count": 5,
      "outputs": [
        {
          "output_type": "stream",
          "name": "stdout",
          "text": [
            "POST /todos: 200 {'id': 'de1b4960-f576-4543-b10d-28bf644b9640', 'title': 'Comprar leite', 'description': None, 'due_date': None, 'completed': False}\n",
            "GET /todos: 200 [{'id': 'de1b4960-f576-4543-b10d-28bf644b9640', 'title': 'Comprar leite', 'description': None, 'due_date': None, 'completed': False}]\n",
            "PATCH /todos/de1b4960-f576-4543-b10d-28bf644b9640/complete: 200 {'id': 'de1b4960-f576-4543-b10d-28bf644b9640', 'title': 'Comprar leite', 'description': None, 'due_date': None, 'completed': True}\n"
          ]
        }
      ]
    }
  ]
}