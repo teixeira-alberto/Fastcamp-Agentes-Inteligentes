{
  "nbformat": 4,
  "nbformat_minor": 0,
  "metadata": {
    "colab": {
      "provenance": []
    },
    "kernelspec": {
      "name": "python3",
      "display_name": "Python 3"
    },
    "language_info": {
      "name": "python"
    }
  },
  "cells": [
    {
      "cell_type": "code",
      "execution_count": 3,
      "metadata": {
        "colab": {
          "base_uri": "https://localhost:8080/"
        },
        "id": "A8405gN3gbU9",
        "outputId": "cab3702c-2382-49a8-c748-1bf04cb636c1"
      },
      "outputs": [
        {
          "output_type": "stream",
          "name": "stdout",
          "text": [
            "Requirement already satisfied: pydantic in /usr/local/lib/python3.11/dist-packages (2.11.4)\n",
            "Requirement already satisfied: fastapi in /usr/local/lib/python3.11/dist-packages (0.115.12)\n",
            "Requirement already satisfied: uvicorn in /usr/local/lib/python3.11/dist-packages (0.34.2)\n",
            "Requirement already satisfied: annotated-types>=0.6.0 in /usr/local/lib/python3.11/dist-packages (from pydantic) (0.7.0)\n",
            "Requirement already satisfied: pydantic-core==2.33.2 in /usr/local/lib/python3.11/dist-packages (from pydantic) (2.33.2)\n",
            "Requirement already satisfied: typing-extensions>=4.12.2 in /usr/local/lib/python3.11/dist-packages (from pydantic) (4.13.2)\n",
            "Requirement already satisfied: typing-inspection>=0.4.0 in /usr/local/lib/python3.11/dist-packages (from pydantic) (0.4.1)\n",
            "Requirement already satisfied: starlette<0.47.0,>=0.40.0 in /usr/local/lib/python3.11/dist-packages (from fastapi) (0.46.2)\n",
            "Requirement already satisfied: click>=7.0 in /usr/local/lib/python3.11/dist-packages (from uvicorn) (8.2.1)\n",
            "Requirement already satisfied: h11>=0.8 in /usr/local/lib/python3.11/dist-packages (from uvicorn) (0.16.0)\n",
            "Requirement already satisfied: anyio<5,>=3.6.2 in /usr/local/lib/python3.11/dist-packages (from starlette<0.47.0,>=0.40.0->fastapi) (4.9.0)\n",
            "Requirement already satisfied: idna>=2.8 in /usr/local/lib/python3.11/dist-packages (from anyio<5,>=3.6.2->starlette<0.47.0,>=0.40.0->fastapi) (3.10)\n",
            "Requirement already satisfied: sniffio>=1.1 in /usr/local/lib/python3.11/dist-packages (from anyio<5,>=3.6.2->starlette<0.47.0,>=0.40.0->fastapi) (1.3.1)\n"
          ]
        }
      ],
      "source": [
        "!pip install pydantic fastapi uvicorn"
      ]
    },
    {
      "cell_type": "markdown",
      "source": [
        "# Exemplo utilizando Pydantic e FastAPI para fazer uma API de \"to do list\""
      ],
      "metadata": {
        "id": "Wc6RdXTBmclk"
      }
    },
    {
      "cell_type": "markdown",
      "source": [
        "Será exibido a validação da data, geração de ID automático e se a tarefa está marcada como concluida"
      ],
      "metadata": {
        "id": "od7z9mr2mlaa"
      }
    },
    {
      "cell_type": "code",
      "source": [
        "from uuid import uuid4, UUID\n",
        "from datetime import date\n",
        "from typing import List, Optional\n",
        "\n",
        "from fastapi import FastAPI, HTTPException\n",
        "from pydantic import BaseModel, Field, field_validator\n",
        "from fastapi.testclient import TestClient\n",
        "\n",
        "app = FastAPI()\n",
        "todos: List[\"ToDoItem\"] = []\n",
        "\n",
        "class ToDoItem(BaseModel):\n",
        "    id: UUID = Field(default_factory=uuid4)\n",
        "    title: str = Field(..., min_length=1)\n",
        "    description: Optional[str] = None\n",
        "    due_date: Optional[date] = None\n",
        "    completed: bool = False\n",
        "\n",
        "    @field_validator(\"due_date\", mode=\"before\")\n",
        "    @classmethod\n",
        "    def check_due_date_future(cls, v):\n",
        "        if v is not None and v < date.today():\n",
        "            raise ValueError(\"due_date não pode ser no passado\")\n",
        "        return v\n",
        "\n",
        "@app.post(\"/todos\", response_model=ToDoItem)\n",
        "def create_todo(item: ToDoItem):\n",
        "    todos.append(item)\n",
        "    return item\n",
        "\n",
        "@app.get(\"/todos\", response_model=List[ToDoItem])\n",
        "def list_todos():\n",
        "    return todos\n",
        "\n",
        "@app.patch(\"/todos/{item_id}/complete\", response_model=ToDoItem)\n",
        "def complete_todo(item_id: UUID):\n",
        "    for todo in todos:\n",
        "        if todo.id == item_id:\n",
        "            todo.completed = True\n",
        "            return todo\n",
        "    raise HTTPException(status_code=404, detail=\"Tarefa não encontrada\")"
      ],
      "metadata": {
        "id": "nZFtK0xKkYgn"
      },
      "execution_count": 6,
      "outputs": []
    },
    {
      "cell_type": "code",
      "source": [
        "# Testando o TestClient\n",
        "client = TestClient(app)\n",
        "\n",
        "# 1) Criar uma tarefa\n",
        "resp1 = client.post(\"/todos\", json={\"title\": \"Comprar leite\"})\n",
        "print(\"POST /todos:\", resp1.status_code, resp1.json())\n",
        "\n",
        "# 2) Listar tarefas\n",
        "resp2 = client.get(\"/todos\")\n",
        "print(\"GET /todos:\", resp2.status_code, resp2.json())\n",
        "\n",
        "# 3) Marcar como concluída\n",
        "tid = resp2.json()[0][\"id\"]\n",
        "resp3 = client.patch(f\"/todos/{tid}/complete\")\n",
        "print(f\"PATCH /todos/{tid}/complete:\", resp3.status_code, resp3.json())"
      ],
      "metadata": {
        "colab": {
          "base_uri": "https://localhost:8080/"
        },
        "id": "x46NTpr6mO18",
        "outputId": "59130edf-9214-4c6d-a393-99f160ad6d50"
      },
      "execution_count": 7,
      "outputs": [
        {
          "output_type": "stream",
          "name": "stdout",
          "text": [
            "POST /todos: 200 {'id': '4b9a4ad7-f1c5-443f-9012-da69aee51db9', 'title': 'Comprar leite', 'description': None, 'due_date': None, 'completed': False}\n",
            "GET /todos: 200 [{'id': '4b9a4ad7-f1c5-443f-9012-da69aee51db9', 'title': 'Comprar leite', 'description': None, 'due_date': None, 'completed': False}]\n",
            "PATCH /todos/4b9a4ad7-f1c5-443f-9012-da69aee51db9/complete: 200 {'id': '4b9a4ad7-f1c5-443f-9012-da69aee51db9', 'title': 'Comprar leite', 'description': None, 'due_date': None, 'completed': True}\n"
          ]
        }
      ]
    }
  ]
}